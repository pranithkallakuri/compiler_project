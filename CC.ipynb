{
  "nbformat": 4,
  "nbformat_minor": 0,
  "metadata": {
    "colab": {
      "name": "CC.ipynb",
      "provenance": [],
      "collapsed_sections": [],
      "include_colab_link": true
    },
    "kernelspec": {
      "name": "python3",
      "display_name": "Python 3"
    }
  },
  "cells": [
    {
      "cell_type": "markdown",
      "metadata": {
        "id": "view-in-github",
        "colab_type": "text"
      },
      "source": [
        "<a href=\"https://colab.research.google.com/github/pranithkallakuri/compiler_project/blob/Tokenizer/CC.ipynb\" target=\"_parent\"><img src=\"https://colab.research.google.com/assets/colab-badge.svg\" alt=\"Open In Colab\"/></a>"
      ]
    },
    {
      "cell_type": "code",
      "metadata": {
        "id": "YmxjRWItY9Aw",
        "colab": {
          "base_uri": "https://localhost:8080/"
        },
        "outputId": "b3718a18-9371-4a5b-851e-b2dc912d05a1"
      },
      "source": [
        "# Whitespace and comment removal class\r\n",
        "class CleanCode:\r\n",
        "\r\n",
        "  commentFlag = 0\r\n",
        "\r\n",
        "  def whiteSpaceRemover(self,line):\r\n",
        "    while line[0] == ' ':                                                       # delete spaces before the line\r\n",
        "      line = line[1:]\r\n",
        "    while line[-1] == ' ':                                                      # delete spaces after the line\r\n",
        "      line = line[:-1]\r\n",
        "    preline = ''\r\n",
        "    while preline != line :                                                     # cancel extra spaces by making two spaces as one until there are not more than one space at a place\r\n",
        "     preline = line\r\n",
        "     line = line.replace('  ',' ')\r\n",
        "    return line\r\n",
        "\r\n",
        "  def commentRemover(self,line):\r\n",
        "    for i in range(len(line)):\r\n",
        "      if line[i:i+2] == '//':                                                   # if // encountered, delete every string from that line after the first encounter of //\r\n",
        "        line = line[:i]\r\n",
        "        break\r\n",
        "    i=0\r\n",
        "    while i < len(line):                                                        \r\n",
        "      if line[i:i+2] == '/*' and self.commentFlag == 0:                         # when /* encountered turn comment flag to 1 which only gets to 0 when a */ is encountered.\r\n",
        "        self.commentFlag = 1\r\n",
        "      elif line[i:i+2] == '*/' and self.commentFlag == 1:\r\n",
        "        self.commentFlag = 0\r\n",
        "        line = line[0:i] + line[i+2:]\r\n",
        "      elif self.commentFlag == 1:                                               # delete every character until the commentflag is 1.\r\n",
        "        line = line[0:i] + line[i+1:]\r\n",
        "      else:\r\n",
        "        i+=1\r\n",
        "    return line\r\n",
        "\r\n",
        "  def cleanCodeLine(self,line):\r\n",
        "    return self.commentRemover(self.whiteSpaceRemover(line))\r\n",
        "\r\n",
        "# The Tokenizer Class\r\n",
        "class Tokenizer:\r\n",
        "  def tokenizer(self,line):\r\n",
        "    #keywords = ['int', 'float', 'boolean', 'string', 'while', 'until', 'if', 'else', 'true', 'false']\r\n",
        "    delimiters = ['{', '}', '(', ')', '[', ']', ';', ',']\r\n",
        "    operators = ['+', '-', '*', '/', '%', '=', ':=', '==', '>', '<', '>=', '<=', '!=', '&&', '||', '!', '?', ':']\r\n",
        "    markers = delimiters + operators\r\n",
        "    i=0\r\n",
        "    while i < len(line):\r\n",
        "      if line[i:i+2] in markers:                                                # if a double symbol delim or operat is encountered, add a space before and after that.\r\n",
        "        line = line[:i]+' '+line[i:i+2]+' '+line[i+2:]\r\n",
        "        i+=2\r\n",
        "      elif line[i] in markers:                                                  # if a double symbol delim is not encountered, and a single symbol delim is encountered,\r\n",
        "        line = line[:i]+' '+line[i:i+1]+' '+line[i+1:]                          # add a space before and after symbol\r\n",
        "        i+=1\r\n",
        "      i+=1\r\n",
        "    return line.split()                                                         # split the line to list of tokens based on spaces.\r\n",
        "\r\n",
        "# Driver Code    \r\n",
        "clean = CleanCode()\r\n",
        "token = Tokenizer()\r\n",
        "print(token.tokenizer(clean.cleanCodeLine('hi hello //  uppal bal tiktok')))\r\n",
        "print()\r\n",
        "print(token.tokenizer(clean.cleanCodeLine('    for    get         (int i = = 0; i<&& n; i +/+)         ')))\r\n",
        "print()\r\n",
        "print(token.tokenizer(clean.cleanCodeLine('/* get the   fuk     out*/      of       here')))\r\n",
        "print()\r\n",
        "print(token.tokenizer(clean.cleanCodeLine('/* comment  */      int  ')))\r\n",
        "print()\r\n",
        "print(token.tokenizer(clean.cleanCodeLine('   i   =  0;')))"
      ],
      "execution_count": null,
      "outputs": [
        {
          "output_type": "stream",
          "text": [
            "['hi', 'hello']\n",
            "\n",
            "['for', 'get', '(', 'int', 'i', '=', '=', '0', ';', 'i', '<', '&&', 'n', ';', 'i', '+', '/', '+', ')']\n",
            "\n",
            "['of', 'here']\n",
            "\n",
            "['int']\n",
            "\n",
            "['i', '=', '0', ';']\n"
          ],
          "name": "stdout"
        }
      ]
    },
    {
      "cell_type": "code",
      "metadata": {
        "id": "W3qOeCSmf_rq"
      },
      "source": [
        ""
      ],
      "execution_count": null,
      "outputs": []
    }
  ]
}